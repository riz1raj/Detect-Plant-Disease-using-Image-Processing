{
 "cells": [
  {
   "cell_type": "markdown",
   "metadata": {},
   "source": [
    "# What is this project about?\n",
    "### Plant disease recognition\n",
    "This project is about collecting images of various infected, good and seems to be infected plant leafs. Then apply image processing on the images and predict the infected plant leafs using Deep Learning+ImageProcessing."
   ]
  },
  {
   "cell_type": "markdown",
   "metadata": {},
   "source": [
    "### Introduction: \n",
    "Plants are the source of food Plants are the source of food on the planet. Infections and diseases in plants are therefore a serious threat, while the most common diagnosis is primarily performed by examining the plant body for the presence of visual symptoms. As an alternative to the traditionally time-consuming process, different research works attempt to find feasible approaches towards protecting plants. In recent years, growth in technology has engendered several alternatives to traditional arduous methods. Deep learning techniques have been very successful in image classification problems. This work uses Deep Convolutional Neural Network (CNN) to detect plant diseases from images of plant leaves."
   ]
  },
  {
   "cell_type": "markdown",
   "metadata": {},
   "source": [
    "# Our approach to building this plant disease detection classification model is discussed in four steps:\n",
    "- Explore the dataset\n",
    "- Build a CNN model\n",
    "- Train and validate the model\n",
    "- Get accuracy of model"
   ]
  },
  {
   "cell_type": "markdown",
   "metadata": {},
   "source": [
    "## <font color=green>Importing neccessary packages</font>"
   ]
  },
  {
   "cell_type": "code",
   "execution_count": 1,
   "metadata": {},
   "outputs": [],
   "source": [
    "import tensorflow as tf\n",
    "import numpy as np\n",
    "import pickle\n",
    "import cv2\n",
    "from os import listdir\n",
    "from sklearn.preprocessing import LabelBinarizer\n",
    "from tensorflow.keras.models import Sequential\n",
    "from tensorflow.keras.layers import BatchNormalization\n",
    "from tensorflow.keras.layers import Conv2D\n",
    "from tensorflow.keras.layers import MaxPooling2D\n",
    "from tensorflow.keras.layers import Activation, Flatten, Dropout, Dense\n",
    "from tensorflow.keras import backend as K\n",
    "from tensorflow.keras.preprocessing.image import ImageDataGenerator\n",
    "from tensorflow.keras.optimizers import Adam\n",
    "from tensorflow.keras.preprocessing import image\n",
    "from tensorflow.keras.preprocessing.image import img_to_array\n",
    "from sklearn.preprocessing import MultiLabelBinarizer\n",
    "from sklearn.model_selection import train_test_split\n",
    "from tensorflow.keras.callbacks import TensorBoard\n",
    "import pickle\n",
    "import time\n",
    "import matplotlib.pyplot as plt"
   ]
  },
  {
   "cell_type": "markdown",
   "metadata": {},
   "source": [
    "# Step 1: Explore the dataset<br>\n",
    "Our `train` folder contains 15 folders each representing a different class. The range of the folder is from 0 to 14. With the help of the OS module, we iterate over all the classes and append images and their respective labels in the data and labels list.\n"
   ]
  },
  {
   "cell_type": "markdown",
   "metadata": {},
   "source": [
    "## <font color=green>Epochs and size of NN is defined</font><br>\n",
    "#### direct data download link : https://www.dropbox.com/s/akac6riqjssahsh/plantdisease_dataset.zip?dl=0 <br> \n",
    "#### Source: https://www.tensorflow.org/datasets/catalog/plant_village"
   ]
  },
  {
   "cell_type": "code",
   "execution_count": 2,
   "metadata": {},
   "outputs": [],
   "source": [
    "EPOCHS = 20\n",
    "INIT_LR = .001\n",
    "BS = 32\n",
    "default_image_size = tuple((256, 256))\n",
    "image_size = 0\n",
    "directory_root = 'D:\\Gamez\\plantdisease'\n",
    "width = 256\n",
    "height= 256\n",
    "depth = 3"
   ]
  },
  {
   "cell_type": "markdown",
   "metadata": {},
   "source": [
    "### <font color=green>Function to convert images to array</font><br>\n",
    "\n"
   ]
  },
  {
   "cell_type": "code",
   "execution_count": 3,
   "metadata": {},
   "outputs": [
    {
     "name": "stdout",
     "output_type": "stream",
     "text": [
      "[INFO] Loading images ...\n",
      "[INFO] Processing Pepper__bell___Bacterial_spot ...\n",
      "[INFO] Processing Pepper__bell___healthy ...\n",
      "[INFO] Processing Potato___Early_blight ...\n",
      "[INFO] Processing Potato___healthy ...\n",
      "[INFO] Processing Potato___Late_blight ...\n",
      "[INFO] Processing Tomato_Bacterial_spot ...\n",
      "[INFO] Processing Tomato_Early_blight ...\n",
      "[INFO] Processing Tomato_healthy ...\n",
      "[INFO] Processing Tomato_Late_blight ...\n",
      "[INFO] Processing Tomato_Leaf_Mold ...\n",
      "[INFO] Processing Tomato_Septoria_leaf_spot ...\n",
      "[INFO] Processing Tomato_Spider_mites_Two_spotted_spider_mite ...\n",
      "[INFO] Processing Tomato__Target_Spot ...\n",
      "[INFO] Processing Tomato__Tomato_mosaic_virus ...\n",
      "[INFO] Processing Tomato__Tomato_YellowLeaf__Curl_Virus ...\n",
      "[INFO] Image loading completed\n"
     ]
    }
   ],
   "source": [
    "def convert_image_to_array(image_dir):\n",
    "    try:\n",
    "        image = cv2.imread(image_dir)  #cv2 used as keword for OpenCV Library already imported in main code\n",
    "        if image is not None:\n",
    "            image = cv2.resize(image, default_image_size)\n",
    "            return img_to_array(image)\n",
    "        else:\n",
    "            return np.array([])\n",
    "    except Exception as e:\n",
    "        print(f\"Error : {e}\")\n",
    "        return None\n",
    "image_list, label_list = [], []\n",
    "try:\n",
    "    print(\"[INFO] Loading images ...\")\n",
    "    root_dir = listdir(directory_root)\n",
    "    for directory in root_dir :\n",
    "        if directory == \".DS_Store\" :\n",
    "            root_dir.remove(directory)\n",
    "\n",
    "    for plant_folder in root_dir :\n",
    "        plant_disease_folder_list = listdir(f\"{directory_root}/{plant_folder}\")\n",
    "        \n",
    "        for disease_folder in plant_disease_folder_list :\n",
    "            if disease_folder == \".DS_Store\" :\n",
    "                plant_disease_folder_list.remove(disease_folder)\n",
    "\n",
    "        for plant_disease_folder in plant_disease_folder_list:\n",
    "            print(f\"[INFO] Processing {plant_disease_folder} ...\")\n",
    "            plant_disease_image_list = listdir(f\"{directory_root}/{plant_folder}/{plant_disease_folder}/\")\n",
    "            for single_plant_disease_image in plant_disease_image_list :\n",
    "                if single_plant_disease_image == \".DS_Store\" :\n",
    "                    plant_disease_image_list.remove(single_plant_disease_image)\n",
    "\n",
    "            for image in plant_disease_image_list[:200]:\n",
    "                image_directory = f\"{directory_root}/{plant_folder}/{plant_disease_folder}/{image}\"\n",
    "                if image_directory.endswith(\".jpg\") == True or image_directory.endswith(\".JPG\") == True:\n",
    "                    image_list.append(convert_image_to_array(image_directory))\n",
    "                    label_list.append(plant_disease_folder)\n",
    "    print(\"[INFO] Image loading completed\")  \n",
    "except Exception as e:\n",
    "    print(f\"Error : {e}\")"
   ]
  },
  {
   "cell_type": "markdown",
   "metadata": {},
   "source": [
    "## <font color=green>Naming of Tensorboard directory</font><br>\n",
    "\n"
   ]
  },
  {
   "cell_type": "code",
   "execution_count": 4,
   "metadata": {},
   "outputs": [],
   "source": [
    "NAME = \"CVPR\".format(int(time.time()))\n",
    "NAME1 = \"CVPR1\".format(int(time.time()))"
   ]
  },
  {
   "cell_type": "markdown",
   "metadata": {},
   "source": [
    "Transform Image Labels uisng [Scikit Learn](http://scikit-learn.org/)'s LabelBinarizer"
   ]
  },
  {
   "cell_type": "code",
   "execution_count": 5,
   "metadata": {},
   "outputs": [],
   "source": [
    "label_binarizer = LabelBinarizer()\n",
    "image_labels = label_binarizer.fit_transform(label_list)\n",
    "pickle.dump(label_binarizer,open('label_transform.pkl', 'wb'))\n",
    "n_classes = len(label_binarizer.classes_)"
   ]
  },
  {
   "cell_type": "markdown",
   "metadata": {},
   "source": [
    "# Step 2: Build a CNN model"
   ]
  },
  {
   "cell_type": "markdown",
   "metadata": {},
   "source": [
    "**We will Build 3 models here**\n",
    "> **The Sequential model** = A Sequential model is appropriate for a plain stack of layers where each layer has exactly one input tensor and one output tensor.\n",
    "\n",
    "> Layers early in the network architecture (i.e., closer to the actual input image) learn fewer **convolutional filters** while layers deeper in the network (i.e., closer to the output predictions) will learn more filters.\n",
    "\n",
    "\n",
    "> Dropout is a technique where randomly selected neurons are ignored during training. They are **dropped-out** randomly. This means that their contribution to the activation of downstream neurons is temporally removed on the forward pass and any weight updates are not applied to the neuron on the backward pass.\n",
    "\n",
    "\n",
    "> We compile the model with Adam optimizer which performs well and loss is `categorical_crossentropy` because we have multiple classes to categorise."
   ]
  },
  {
   "cell_type": "markdown",
   "metadata": {},
   "source": [
    "### Defining models && Split datas "
   ]
  },
  {
   "cell_type": "code",
   "execution_count": 6,
   "metadata": {},
   "outputs": [
    {
     "name": "stdout",
     "output_type": "stream",
     "text": [
      "Model: \"sequential\"\n",
      "_________________________________________________________________\n",
      "Layer (type)                 Output Shape              Param #   \n",
      "=================================================================\n",
      "conv2d (Conv2D)              (None, 256, 256, 32)      896       \n",
      "_________________________________________________________________\n",
      "activation (Activation)      (None, 256, 256, 32)      0         \n",
      "_________________________________________________________________\n",
      "batch_normalization (BatchNo (None, 256, 256, 32)      128       \n",
      "_________________________________________________________________\n",
      "max_pooling2d (MaxPooling2D) (None, 85, 85, 32)        0         \n",
      "_________________________________________________________________\n",
      "dropout (Dropout)            (None, 85, 85, 32)        0         \n",
      "_________________________________________________________________\n",
      "conv2d_1 (Conv2D)            (None, 85, 85, 64)        18496     \n",
      "_________________________________________________________________\n",
      "activation_1 (Activation)    (None, 85, 85, 64)        0         \n",
      "_________________________________________________________________\n",
      "batch_normalization_1 (Batch (None, 85, 85, 64)        256       \n",
      "_________________________________________________________________\n",
      "conv2d_2 (Conv2D)            (None, 85, 85, 64)        36928     \n",
      "_________________________________________________________________\n",
      "activation_2 (Activation)    (None, 85, 85, 64)        0         \n",
      "_________________________________________________________________\n",
      "batch_normalization_2 (Batch (None, 85, 85, 64)        256       \n",
      "_________________________________________________________________\n",
      "max_pooling2d_1 (MaxPooling2 (None, 42, 42, 64)        0         \n",
      "_________________________________________________________________\n",
      "dropout_1 (Dropout)          (None, 42, 42, 64)        0         \n",
      "_________________________________________________________________\n",
      "conv2d_3 (Conv2D)            (None, 42, 42, 128)       73856     \n",
      "_________________________________________________________________\n",
      "activation_3 (Activation)    (None, 42, 42, 128)       0         \n",
      "_________________________________________________________________\n",
      "batch_normalization_3 (Batch (None, 42, 42, 128)       512       \n",
      "_________________________________________________________________\n",
      "conv2d_4 (Conv2D)            (None, 42, 42, 128)       147584    \n",
      "_________________________________________________________________\n",
      "activation_4 (Activation)    (None, 42, 42, 128)       0         \n",
      "_________________________________________________________________\n",
      "batch_normalization_4 (Batch (None, 42, 42, 128)       512       \n",
      "_________________________________________________________________\n",
      "max_pooling2d_2 (MaxPooling2 (None, 21, 21, 128)       0         \n",
      "_________________________________________________________________\n",
      "dropout_2 (Dropout)          (None, 21, 21, 128)       0         \n",
      "_________________________________________________________________\n",
      "flatten (Flatten)            (None, 56448)             0         \n",
      "_________________________________________________________________\n",
      "dense (Dense)                (None, 1024)              57803776  \n",
      "_________________________________________________________________\n",
      "activation_5 (Activation)    (None, 1024)              0         \n",
      "_________________________________________________________________\n",
      "batch_normalization_5 (Batch (None, 1024)              4096      \n",
      "_________________________________________________________________\n",
      "dropout_3 (Dropout)          (None, 1024)              0         \n",
      "_________________________________________________________________\n",
      "dense_1 (Dense)              (None, 15)                15375     \n",
      "_________________________________________________________________\n",
      "activation_6 (Activation)    (None, 15)                0         \n",
      "=================================================================\n",
      "Total params: 58,102,671\n",
      "Trainable params: 58,099,791\n",
      "Non-trainable params: 2,880\n",
      "_________________________________________________________________\n"
     ]
    }
   ],
   "source": [
    "np_image_list = np.array(image_list, dtype=np.float16) / 225.0\n",
    "\n",
    "x_train, x_test, y_train, y_test = train_test_split(np_image_list, image_labels, test_size=0.2, random_state = 42) \n",
    "\n",
    "aug = ImageDataGenerator(\n",
    "    rotation_range=25, width_shift_range=0.1,\n",
    "    height_shift_range=0.1, shear_range=0.2, \n",
    "    zoom_range=0.2,horizontal_flip=True, \n",
    "    fill_mode=\"nearest\")\n",
    "model = Sequential()\n",
    "inputShape = (height, width, depth)\n",
    "chanDim = -1\n",
    "if K.image_data_format() == \"channels_first\":\n",
    "    inputShape = (depth, height, width)\n",
    "    chanDim = 1\n",
    "model.add(Conv2D(32, (3, 3), padding=\"same\",input_shape=inputShape))\n",
    "model.add(Activation(\"relu\"))\n",
    "model.add(BatchNormalization(axis=chanDim))\n",
    "model.add(MaxPooling2D(pool_size=(3, 3)))\n",
    "model.add(Dropout(0.25))\n",
    "model.add(Conv2D(64, (3, 3), padding=\"same\"))\n",
    "model.add(Activation(\"relu\"))\n",
    "model.add(BatchNormalization(axis=chanDim))\n",
    "model.add(Conv2D(64, (3, 3), padding=\"same\"))\n",
    "model.add(Activation(\"relu\"))\n",
    "model.add(BatchNormalization(axis=chanDim))\n",
    "model.add(MaxPooling2D(pool_size=(2, 2)))\n",
    "model.add(Dropout(0.25))\n",
    "model.add(Conv2D(128, (3, 3), padding=\"same\"))\n",
    "model.add(Activation(\"relu\"))\n",
    "model.add(BatchNormalization(axis=chanDim))\n",
    "model.add(Conv2D(128, (3, 3), padding=\"same\"))\n",
    "model.add(Activation(\"relu\"))\n",
    "model.add(BatchNormalization(axis=chanDim))\n",
    "model.add(MaxPooling2D(pool_size=(2, 2)))\n",
    "model.add(Dropout(0.25))\n",
    "model.add(Flatten())\n",
    "model.add(Dense(1024))\n",
    "model.add(Activation(\"relu\"))\n",
    "model.add(BatchNormalization())\n",
    "model.add(Dropout(0.5))\n",
    "model.add(Dense(n_classes))\n",
    "model.add(Activation(\"softmax\"))\n",
    "model.summary()"
   ]
  },
  {
   "cell_type": "markdown",
   "metadata": {},
   "source": [
    "# Steps 3: Train and validate the model\n",
    "\n",
    "## <font color=red>Iteration rate .001:</font><br>\n",
    "\n",
    "After building the model architecture, we then train the model using `model.fit()`\n",
    "\n",
    "\n",
    "- We will train above three models here"
   ]
  },
  {
   "cell_type": "markdown",
   "metadata": {},
   "source": [
    "#### Training Data....."
   ]
  },
  {
   "cell_type": "code",
   "execution_count": 8,
   "metadata": {},
   "outputs": [
    {
     "name": "stdout",
     "output_type": "stream",
     "text": [
      "WARNING:tensorflow:From <ipython-input-8-fca92474ca8f>:4: Model.fit_generator (from tensorflow.python.keras.engine.training) is deprecated and will be removed in a future version.\n",
      "Instructions for updating:\n",
      "Please use Model.fit, which supports generators.\n",
      "Epoch 1/20\n",
      " 1/73 [..............................] - ETA: 0s - loss: 0.4108 - accuracy: 0.0938WARNING:tensorflow:From C:\\Users\\RAJ\\anaconda3\\envs\\tensorflow2\\lib\\site-packages\\tensorflow\\python\\ops\\summary_ops_v2.py:1277: stop (from tensorflow.python.eager.profiler) is deprecated and will be removed after 2020-07-01.\n",
      "Instructions for updating:\n",
      "use `tf.profiler.experimental.stop` instead.\n",
      "73/73 [==============================] - 242s 3s/step - loss: 0.2131 - accuracy: 0.3985 - val_loss: 0.5170 - val_accuracy: 0.1002\n",
      "Epoch 2/20\n",
      "73/73 [==============================] - 238s 3s/step - loss: 0.1905 - accuracy: 0.4558 - val_loss: 1.1847 - val_accuracy: 0.0679\n",
      "Epoch 3/20\n",
      "73/73 [==============================] - 231s 3s/step - loss: 0.1630 - accuracy: 0.5511 - val_loss: 0.8914 - val_accuracy: 0.1087\n",
      "Epoch 4/20\n",
      "73/73 [==============================] - 230s 3s/step - loss: 0.1385 - accuracy: 0.6006 - val_loss: 0.8493 - val_accuracy: 0.1256\n",
      "Epoch 5/20\n",
      "73/73 [==============================] - 231s 3s/step - loss: 0.1302 - accuracy: 0.6333 - val_loss: 0.6805 - val_accuracy: 0.0985\n",
      "Epoch 6/20\n",
      "73/73 [==============================] - 231s 3s/step - loss: 0.1075 - accuracy: 0.6885 - val_loss: 0.5166 - val_accuracy: 0.2037\n",
      "Epoch 7/20\n",
      "73/73 [==============================] - 231s 3s/step - loss: 0.0959 - accuracy: 0.7238 - val_loss: 0.2602 - val_accuracy: 0.4635\n",
      "Epoch 8/20\n",
      "73/73 [==============================] - 230s 3s/step - loss: 0.0853 - accuracy: 0.7548 - val_loss: 0.3837 - val_accuracy: 0.4126\n",
      "Epoch 9/20\n",
      "73/73 [==============================] - 224s 3s/step - loss: 0.0845 - accuracy: 0.7553 - val_loss: 0.3465 - val_accuracy: 0.4652\n",
      "Epoch 10/20\n",
      "73/73 [==============================] - 219s 3s/step - loss: 0.0796 - accuracy: 0.7678 - val_loss: 0.2744 - val_accuracy: 0.5314\n",
      "Epoch 11/20\n",
      "73/73 [==============================] - 219s 3s/step - loss: 0.0744 - accuracy: 0.7962 - val_loss: 0.2387 - val_accuracy: 0.5552\n",
      "Epoch 12/20\n",
      "73/73 [==============================] - 219s 3s/step - loss: 0.0704 - accuracy: 0.7923 - val_loss: 0.3601 - val_accuracy: 0.4533\n",
      "Epoch 13/20\n",
      "73/73 [==============================] - 219s 3s/step - loss: 0.0679 - accuracy: 0.8065 - val_loss: 0.1045 - val_accuracy: 0.7606\n",
      "Epoch 14/20\n",
      "73/73 [==============================] - 218s 3s/step - loss: 0.0677 - accuracy: 0.8065 - val_loss: 1.0052 - val_accuracy: 0.1715\n",
      "Epoch 15/20\n",
      "73/73 [==============================] - 218s 3s/step - loss: 0.0607 - accuracy: 0.8290 - val_loss: 0.5943 - val_accuracy: 0.3056\n",
      "Epoch 16/20\n",
      "73/73 [==============================] - 222s 3s/step - loss: 0.0573 - accuracy: 0.8324 - val_loss: 0.1105 - val_accuracy: 0.7250\n",
      "Epoch 17/20\n",
      "73/73 [==============================] - 237s 3s/step - loss: 0.0511 - accuracy: 0.8501 - val_loss: 0.0801 - val_accuracy: 0.7980\n",
      "Epoch 18/20\n",
      "73/73 [==============================] - 239s 3s/step - loss: 0.0540 - accuracy: 0.8466 - val_loss: 0.3814 - val_accuracy: 0.4873\n",
      "Epoch 19/20\n",
      "73/73 [==============================] - 242s 3s/step - loss: 0.0526 - accuracy: 0.8535 - val_loss: 0.1164 - val_accuracy: 0.7233\n",
      "Epoch 20/20\n",
      "73/73 [==============================] - 238s 3s/step - loss: 0.0493 - accuracy: 0.8583 - val_loss: 0.3229 - val_accuracy: 0.5246\n"
     ]
    }
   ],
   "source": [
    "opt = Adam(lr=INIT_LR, decay=INIT_LR / EPOCHS)\n",
    "model.compile(loss=\"binary_crossentropy\", optimizer=opt,metrics=[\"accuracy\"])\n",
    "\n",
    "history = model.fit_generator(\n",
    "    aug.flow(x_train, y_train, batch_size=BS),\n",
    "    validation_data=(x_test, y_test),\n",
    "    callbacks=[tensorboard],\n",
    "    steps_per_epoch=len(x_train) // BS,\n",
    "    epochs=EPOCHS, verbose=1\n",
    "    )"
   ]
  },
  {
   "cell_type": "markdown",
   "metadata": {},
   "source": [
    "# Plotting Datas"
   ]
  },
  {
   "cell_type": "code",
   "execution_count": 10,
   "metadata": {},
   "outputs": [
    {
     "data": {
      "text/plain": [
       "<matplotlib.legend.Legend at 0x2344822c850>"
      ]
     },
     "execution_count": 10,
     "metadata": {},
     "output_type": "execute_result"
    },
    {
     "data": {
      "image/png": "[encoded data removed]",
      "text/plain": [
       "<Figure size 432x288 with 1 Axes>"
      ]
     },
     "metadata": {
      "needs_background": "light"
     },
     "output_type": "display_data"
    }
   ],
   "source": [
    "acc = history.history['accuracy']\n",
    "val_acc = history.history['val_accuracy']\n",
    "epochs = range(1, len(acc) + 1)\n",
    "plt.plot(epochs, acc, 'b', label='Training accurarcy')\n",
    "plt.plot(epochs, val_acc, 'r', label='Validation accurarcy')\n",
    "plt.title('Training and Validation accurarcy')\n",
    "plt.legend()"
   ]
  },
  {
   "cell_type": "code",
   "execution_count": 11,
   "metadata": {},
   "outputs": [
    {
     "data": {
      "image/png": "[encoded data removed]",
      "text/plain": [
       "<Figure size 432x288 with 1 Axes>"
      ]
     },
     "metadata": {
      "needs_background": "light"
     },
     "output_type": "display_data"
    }
   ],
   "source": [
    "#Proceed after evaluation of model loss is predict:-\n",
    "\n",
    "loss = history.history['loss']\n",
    "val_loss = history.history['val_loss']\n",
    "epochs = range(1, len(acc) + 1)\n",
    "plt.plot(epochs, loss, 'b', label='Training loss')\n",
    "plt.plot(epochs, val_loss, 'r', label='Validation loss')\n",
    "plt.title('Training and Validation loss')\n",
    "plt.legend()\n",
    "plt.show()"
   ]
  },
  {
   "cell_type": "markdown",
   "metadata": {},
   "source": [
    "# Step 4\n",
    "### Calculating Model Accuracy"
   ]
  },
  {
   "cell_type": "code",
   "execution_count": 12,
   "metadata": {},
   "outputs": [
    {
     "name": "stdout",
     "output_type": "stream",
     "text": [
      "[INFO] Calculating model accuracy\n",
      "19/19 [==============================] - 7s 355ms/step - loss: 0.3229 - accuracy: 0.5246\n",
      "Test Accuracy: 52.46179699897766\n"
     ]
    }
   ],
   "source": [
    "print(\"[INFO] Calculating model accuracy\")\n",
    "scores = model.evaluate(x_test, y_test)\n",
    "print(f\"Test Accuracy: {scores[1]*100}\")"
   ]
  },
  {
   "cell_type": "markdown",
   "metadata": {},
   "source": [
    "## <font color=green>Train and validate the model again</font><br>\n",
    "\n",
    "# <font color=red>Iteration rate .01:</font><br>\n",
    " \n",
    "\n",
    "After building the model architecture, we then train the model using `model.fit()`\n",
    "\n",
    "\n",
    "- We will train above three models here"
   ]
  },
  {
   "cell_type": "code",
   "execution_count": 14,
   "metadata": {},
   "outputs": [
    {
     "name": "stdout",
     "output_type": "stream",
     "text": [
      "Epoch 1/20\n",
      "73/73 [==============================] - 225s 3s/step - loss: 0.3797 - accuracy: 0.2641 - val_loss: 1.8108 - val_accuracy: 0.1070\n",
      "Epoch 2/20\n",
      "73/73 [==============================] - 225s 3s/step - loss: 0.2822 - accuracy: 0.3878 - val_loss: 1.5375 - val_accuracy: 0.1002\n",
      "Epoch 3/20\n",
      "73/73 [==============================] - 229s 3s/step - loss: 0.2224 - accuracy: 0.4718 - val_loss: 0.5403 - val_accuracy: 0.3209\n",
      "Epoch 4/20\n",
      "73/73 [==============================] - 230s 3s/step - loss: 0.1905 - accuracy: 0.5261 - val_loss: 0.8868 - val_accuracy: 0.2292\n",
      "Epoch 5/20\n",
      "73/73 [==============================] - 223s 3s/step - loss: 0.1671 - accuracy: 0.5692 - val_loss: 0.2635 - val_accuracy: 0.4618\n",
      "Epoch 6/20\n",
      "73/73 [==============================] - 235s 3s/step - loss: 0.1342 - accuracy: 0.6226 - val_loss: 0.2049 - val_accuracy: 0.5280\n",
      "Epoch 7/20\n",
      "73/73 [==============================] - 236s 3s/step - loss: 0.1220 - accuracy: 0.6558 - val_loss: 0.2340 - val_accuracy: 0.4516\n",
      "Epoch 8/20\n",
      "73/73 [==============================] - 232s 3s/step - loss: 0.1247 - accuracy: 0.6506 - val_loss: 1.7845 - val_accuracy: 0.0713\n",
      "Epoch 9/20\n",
      "73/73 [==============================] - 232s 3s/step - loss: 0.1048 - accuracy: 0.7027 - val_loss: 0.6352 - val_accuracy: 0.2411\n",
      "Epoch 10/20\n",
      "73/73 [==============================] - 238s 3s/step - loss: 0.0933 - accuracy: 0.7299 - val_loss: 0.2940 - val_accuracy: 0.4431\n",
      "Epoch 11/20\n",
      "73/73 [==============================] - 236s 3s/step - loss: 0.0931 - accuracy: 0.7247 - val_loss: 0.3800 - val_accuracy: 0.3226\n",
      "Epoch 12/20\n",
      "73/73 [==============================] - 241s 3s/step - loss: 0.0908 - accuracy: 0.7255 - val_loss: 0.0939 - val_accuracy: 0.7097\n",
      "Epoch 13/20\n",
      "73/73 [==============================] - 248s 3s/step - loss: 0.0919 - accuracy: 0.7243 - val_loss: 0.1496 - val_accuracy: 0.6146\n",
      "Epoch 14/20\n",
      "73/73 [==============================] - 248s 3s/step - loss: 0.1223 - accuracy: 0.6523 - val_loss: 0.3502 - val_accuracy: 0.3430\n",
      "Epoch 15/20\n",
      "73/73 [==============================] - 243s 3s/step - loss: 0.1372 - accuracy: 0.5838 - val_loss: 0.4700 - val_accuracy: 0.2105\n",
      "Epoch 16/20\n",
      "73/73 [==============================] - 249s 3s/step - loss: 0.0981 - accuracy: 0.7019 - val_loss: 0.3710 - val_accuracy: 0.3141\n",
      "Epoch 17/20\n",
      "73/73 [==============================] - 254s 3s/step - loss: 0.0907 - accuracy: 0.7238 - val_loss: 0.2875 - val_accuracy: 0.3769\n",
      "Epoch 18/20\n",
      "73/73 [==============================] - 261s 4s/step - loss: 0.0820 - accuracy: 0.7536 - val_loss: 0.2644 - val_accuracy: 0.4244\n",
      "Epoch 19/20\n",
      "73/73 [==============================] - 256s 4s/step - loss: 0.0736 - accuracy: 0.7755 - val_loss: 0.1263 - val_accuracy: 0.6503\n",
      "Epoch 20/20\n",
      "73/73 [==============================] - 246s 3s/step - loss: 0.0743 - accuracy: 0.7738 - val_loss: 0.0706 - val_accuracy: 0.7929\n"
     ]
    }
   ],
   "source": [
    "opt = Adam(lr=.01, decay=.01 / EPOCHS)\n",
    "model.compile(loss=\"binary_crossentropy\", optimizer=opt,metrics=[\"accuracy\"])\n",
    "\n",
    "history = model.fit_generator(\n",
    "    aug.flow(x_train, y_train, batch_size=BS),\n",
    "    validation_data=(x_test, y_test),\n",
    "    callbacks=[tensorboard],\n",
    "    steps_per_epoch=len(x_train) // BS,\n",
    "    epochs=EPOCHS, verbose=1\n",
    "    )"
   ]
  },
  {
   "cell_type": "code",
   "execution_count": 16,
   "metadata": {},
   "outputs": [
    {
     "data": {
      "text/plain": [
       "<matplotlib.legend.Legend at 0x234482b7910>"
      ]
     },
     "execution_count": 16,
     "metadata": {},
     "output_type": "execute_result"
    },
    {
     "data": {
      "image/png": "[encoded data removed]",
      "text/plain": [
       "<Figure size 432x288 with 1 Axes>"
      ]
     },
     "metadata": {
      "needs_background": "light"
     },
     "output_type": "display_data"
    }
   ],
   "source": [
    "acc = history.history['accuracy']\n",
    "val_acc = history.history['val_accuracy']\n",
    "epochs = range(1, len(acc) + 1)\n",
    "plt.plot(epochs, acc, 'b', label='Training accurarcy')\n",
    "plt.plot(epochs, val_acc, 'r', label='Validation accurarcy')\n",
    "plt.title('Training and Validation accurarcy')\n",
    "plt.legend()"
   ]
  },
  {
   "cell_type": "code",
   "execution_count": 17,
   "metadata": {},
   "outputs": [
    {
     "data": {
      "image/png": "[encoded data removed]",
      "text/plain": [
       "<Figure size 432x288 with 1 Axes>"
      ]
     },
     "metadata": {
      "needs_background": "light"
     },
     "output_type": "display_data"
    }
   ],
   "source": [
    "#Proceed after evaluation of model loss is predict:-\n",
    "\n",
    "loss = history.history['loss']\n",
    "val_loss = history.history['val_loss']\n",
    "epochs = range(1, len(acc) + 1)\n",
    "plt.plot(epochs, loss, 'b', label='Training loss')\n",
    "plt.plot(epochs, val_loss, 'r', label='Validation loss')\n",
    "plt.title('Training and Validation loss')\n",
    "plt.legend()\n",
    "plt.show()"
   ]
  },
  {
   "cell_type": "code",
   "execution_count": 18,
   "metadata": {},
   "outputs": [
    {
     "name": "stdout",
     "output_type": "stream",
     "text": [
      "[INFO] Calculating model accuracy\n",
      "19/19 [==============================] - 6s 315ms/step - loss: 0.0706 - accuracy: 0.7929\n",
      "Test Accuracy: 79.28692698478699\n"
     ]
    }
   ],
   "source": [
    "print(\"[INFO] Calculating model accuracy\")\n",
    "scores = model.evaluate(x_test, y_test)\n",
    "print(f\"Test Accuracy: {scores[1]*100}\")"
   ]
  },
  {
   "cell_type": "markdown",
   "metadata": {},
   "source": [
    "## Conclusion\n",
    "The Results presented in this section are related to training with the whole database containing both original and augmented images. When we iterated it with .001 then the accuracy we got is about 52% and when we trained it again with iteration rate .01 then we got accuracy about 79%. As it is known that convolutional networks are able to learn features when trained on larger datasets, results achieved when trained with only original images will not be explored. In addition, there are still no commercial solutions on the market, except those dealing with plant species recognition based on the leaves images. In this paper, a approach of using deep learning method was explored in order to automatically classify and detect plant dise\tases from leaf images. The complete procedure was described, respectively, from collecting the images used for training and validation to image pre-processing and augmentation and finally the procedure of training the deep CNN and fine-tuning. Different tests were performed in order to check the performance of newly created model. As the presented method has not been exploited, as far as we know, in the field of plant disease recognition, there was no comparison with related results, using the exact technique. "
   ]
  }
 ],
 "metadata": {
  "kernelspec": {
   "display_name": "Python 3",
   "language": "python",
   "name": "python3"
  },
  "language_info": {
   "codemirror_mode": {
    "name": "ipython",
    "version": 3
   },
   "file_extension": ".py",
   "mimetype": "text/x-python",
   "name": "python",
   "nbconvert_exporter": "python",
   "pygments_lexer": "ipython3",
   "version": "3.8.3"
  }
 },
 "nbformat": 4,
 "nbformat_minor": 4
}
